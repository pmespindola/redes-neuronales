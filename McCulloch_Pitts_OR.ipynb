{
  "nbformat": 4,
  "nbformat_minor": 0,
  "metadata": {
    "colab": {
      "provenance": [],
      "toc_visible": true,
      "authorship_tag": "ABX9TyPrLzmO4RN6mc0OEXPWNDCk",
      "include_colab_link": true
    },
    "kernelspec": {
      "name": "python3",
      "display_name": "Python 3"
    },
    "language_info": {
      "name": "python"
    }
  },
  "cells": [
    {
      "cell_type": "markdown",
      "metadata": {
        "id": "view-in-github",
        "colab_type": "text"
      },
      "source": [
        "<a href=\"https://colab.research.google.com/github/pmespindola/redes-neuronales/blob/main/McCulloch_Pitts_OR.ipynb\" target=\"_parent\"><img src=\"https://colab.research.google.com/assets/colab-badge.svg\" alt=\"Open In Colab\"/></a>"
      ]
    },
    {
      "cell_type": "markdown",
      "source": [
        "# McCulloch-Pitts caso OR\n",
        "Para el caso de la neurona de McCulloch-Pitts con la operación OR se tiene la siguiente tabla de valores\n",
        "\n",
        "|X|Y|X OR Y|\n",
        "|--|--|--|\n",
        "|True|True|True|\n",
        "|True|False|True|\n",
        "|False|True|True|\n",
        "|False|False|False|\n",
        "\n",
        "Traduciendo la tabla anterior a balores vinarios True=1 y False=0 , la tabla anterior se convierte en la siguiente:\n",
        "\n",
        "|X|Y|X OR Y|\n",
        "|--|--|--|\n",
        "|1|1|1|\n",
        "|1|0|1|\n",
        "|0|1|1|\n",
        "|0|0|0|\n",
        "\n",
        "Ahora calculamos los valores de $f(x_1,x_2)=x_1 w_1+x_2 w_2$\n",
        "\n",
        "Para $(1,1)→ f(1,1)=1\\cdot 1+1\\cdot 1=2$\n",
        "\n",
        "Para $(1,0)→ f(1,0)=1\\cdot 1+1\\cdot 0=1$\n",
        "\n",
        "Para $(0,1)→ f(0,1)=0\\cdot 1+1\\cdot 1=1$\n",
        "\n",
        "Para $(0,0)→ f(0,0)=0\\cdot 1+0\\cdot 1=0$\n",
        "\n"
      ],
      "metadata": {
        "id": "hIMyCO8rfNUc"
      }
    },
    {
      "cell_type": "code",
      "execution_count": null,
      "metadata": {
        "id": "L3nrNHJlfGZu"
      },
      "outputs": [],
      "source": [
        "import numpy as np\n",
        "# Entradas para la neurona\n",
        "X = np.array([\n",
        "    [1, 1],\n",
        "    [1, 0],\n",
        "    [0, 1],\n",
        "    [0, 0]\n",
        "])\n",
        "# Salidas\n",
        "Y = np.array([1, 1, 1, 0])\n",
        "# Pesos para las entradas\n",
        "W = [1, 1]\n",
        "# Umbral para la función de activación\n",
        "umbral = 2"
      ]
    },
    {
      "cell_type": "code",
      "source": [
        "class McCullochPitts:\n",
        "    def __init__(self, weights, umbral):\n",
        "        \"\"\"\n",
        "            Constructor de la neurona MCP.\n",
        "            Guarda las variables\n",
        "            weights -> vector de pesos iniciales\n",
        "            umbral -> umbral para usar en la funcion de activación\n",
        "        \"\"\"\n",
        "        self.weights = weights\n",
        "        self.umbral = umbral\n",
        "\n",
        "    def predict(self, X):\n",
        "        \"\"\"\n",
        "            Calcula la salida de la neurona para cada fila de entradas X.\n",
        "        \"\"\"\n",
        "        # Lista donde se guardarán las salidas\n",
        "        predictions = []\n",
        "        # Recorremos cada fila de entradas\n",
        "        for i in range(X.shape[0]):\n",
        "            # Calculamos la suma ponderada: w1*x1 + w2*x2\n",
        "            weighted_sum = np.dot(self.weights, X[i])\n",
        "            # Mostramos en consola la entrada y la suma ponderada\n",
        "            print(f\"Input: {X[i]}, Weighted Sum: {weighted_sum}\")\n",
        "            # Comparación con el umbral determinar si la neurona se activa o no\n",
        "            if weighted_sum >= self.umbral:\n",
        "                predictions.append(1)\n",
        "            else:\n",
        "                predictions.append(0)\n",
        "        return predictions"
      ],
      "metadata": {
        "id": "3mCT0-bMlyx2"
      },
      "execution_count": null,
      "outputs": []
    },
    {
      "cell_type": "code",
      "source": [
        "# Instanciamos la clase McCullochPitts\n",
        "mcp = McCullochPitts(W, umbral)\n",
        "# Calculamos las predicciones\n",
        "predictions = mcp.predict(X)\n",
        "# Mostramos el resultado final\n",
        "print(\"Predictions:\", predictions)"
      ],
      "metadata": {
        "colab": {
          "base_uri": "https://localhost:8080/"
        },
        "id": "MD0REdW5l5_T",
        "outputId": "d6f4502e-87da-43a2-95d7-d7eb81760559"
      },
      "execution_count": null,
      "outputs": [
        {
          "output_type": "stream",
          "name": "stdout",
          "text": [
            "Input: [1 1], Weighted Sum: 2\n",
            "Input: [1 0], Weighted Sum: 1\n",
            "Input: [0 1], Weighted Sum: 1\n",
            "Input: [0 0], Weighted Sum: 0\n",
            "Predictions: [1, 0, 0, 0]\n"
          ]
        }
      ]
    }
  ]
}