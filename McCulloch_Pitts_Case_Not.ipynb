{
  "nbformat": 4,
  "nbformat_minor": 0,
  "metadata": {
    "colab": {
      "provenance": [],
      "authorship_tag": "ABX9TyO3c0vWhWexrY9ymEed+c53",
      "include_colab_link": true
    },
    "kernelspec": {
      "name": "python3",
      "display_name": "Python 3"
    },
    "language_info": {
      "name": "python"
    }
  },
  "cells": [
    {
      "cell_type": "markdown",
      "metadata": {
        "id": "view-in-github",
        "colab_type": "text"
      },
      "source": [
        "<a href=\"https://colab.research.google.com/github/pmespindola/redes-neuronales/blob/main/McCulloch_Pitts_Case_Not.ipynb\" target=\"_parent\"><img src=\"https://colab.research.google.com/assets/colab-badge.svg\" alt=\"Open In Colab\"/></a>"
      ]
    },
    {
      "cell_type": "markdown",
      "source": [
        "#McCulloch-Pitts Case NOT\n",
        "\n",
        "Para la compuerta NOT (inversor) basta con una neurona MCP con una sola entrada. Una forma simple y directa de implementarla, reutilizando la clase McCullochPitts de tu notebook, es usar el peso -1 y umbral 0. Con eso la lógica queda:\n",
        "\n",
        "entrada 0 → suma ponderada 0 → 0 >= 0 es True → salida 1 (negación de 0)\n",
        "\n",
        "entrada 1 → suma ponderada -1 → -1 >= 0 es False → salida 0 (negación de 1)\n"
      ],
      "metadata": {
        "id": "A_7hdarsLFdY"
      }
    },
    {
      "cell_type": "code",
      "execution_count": 5,
      "metadata": {
        "colab": {
          "base_uri": "https://localhost:8080/"
        },
        "id": "XTJCdvK_LEk5",
        "outputId": "a0b7d854-c6fa-43d2-9001-b2e7d468976e"
      },
      "outputs": [
        {
          "output_type": "stream",
          "name": "stdout",
          "text": [
            "Input: [1], Weighted Sum: -1\n",
            "Input: [0], Weighted Sum: 0\n",
            "Predictions (NOT): [0, 0]\n",
            "Matches expected: [ True False]\n"
          ]
        }
      ],
      "source": [
        "import numpy as np\n",
        "\n",
        "# Entradas para la neurona (cada fila es un vector de una sola entrada)\n",
        "X_not = np.array([\n",
        "    [1],\n",
        "    [0]\n",
        "])\n",
        "\n",
        "# Salidas esperadas para NOT: NOT(1)=0, NOT(0)=1\n",
        "Y_not = np.array([0, 1])\n",
        "\n",
        "# Peso para la única entrada (negador)\n",
        "W_not = [-1]   # una lista con un único peso\n",
        "# Umbral para la función de activación\n",
        "umbral_not = 2\n",
        "\n",
        "# Declaramos la clase McCullochPitts\n",
        "\n",
        "class McCullochPitts:\n",
        "    def __init__(self, weights, umbral):\n",
        "        self.weights = weights\n",
        "        self.umbral = umbral\n",
        "\n",
        "    def predict(self, X):\n",
        "        predictions = []\n",
        "        for i in range(X.shape[0]):\n",
        "            weighted_sum = np.dot(self.weights, X[i])\n",
        "            print(f\"Input: {X[i]}, Weighted Sum: {weighted_sum}\")\n",
        "            if weighted_sum >= self.umbral:\n",
        "                predictions.append(1)\n",
        "            else:\n",
        "                predictions.append(0)\n",
        "        return predictions\n",
        "\n",
        "# Instanciamos y probamos NOT\n",
        "mcp_not = McCullochPitts(W_not, umbral_not)\n",
        "predictions_not = mcp_not.predict(X_not)\n",
        "print(\"Predictions (NOT):\", predictions_not)\n",
        "#compara con Y_not si quieres:\n",
        "print(\"Matches expected:\", np.array(predictions_not) == Y_not)\n"
      ]
    }
  ]
}